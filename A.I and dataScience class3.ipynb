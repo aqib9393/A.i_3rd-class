{
 "cells": [
  {
   "cell_type": "code",
   "execution_count": 11,
   "metadata": {},
   "outputs": [
    {
     "name": "stdout",
     "output_type": "stream",
     "text": [
      "0 why\n",
      "1 why\n",
      "2 why\n",
      "3 why\n",
      "4 why\n",
      "5 why\n",
      "6 why\n",
      "7 why\n",
      "8 why\n",
      "9 why\n"
     ]
    }
   ],
   "source": [
    "for a in range(0,10):\n",
    "    print(a,\"why\")"
   ]
  },
  {
   "cell_type": "code",
   "execution_count": 14,
   "metadata": {},
   "outputs": [
    {
     "name": "stdout",
     "output_type": "stream",
     "text": [
      "your name is a\n",
      "your name is b\n",
      "your name is c\n",
      "your name is d\n",
      "your name is e\n"
     ]
    }
   ],
   "source": [
    "name=[\"a\",\"b\",\"c\",\"d\",\"e\"]\n",
    "check=\"your name is\"\n",
    "for a_name in name:\n",
    "    print(check,a_name)"
   ]
  },
  {
   "cell_type": "code",
   "execution_count": 22,
   "metadata": {},
   "outputs": [
    {
     "name": "stdout",
     "output_type": "stream",
     "text": [
      "10\n",
      "9\n",
      "8\n",
      "7\n",
      "6\n",
      "5\n",
      "4\n",
      "3\n",
      "2\n",
      "1\n"
     ]
    }
   ],
   "source": [
    "for j in range(10,0,-1):\n",
    "    print(j)"
   ]
  },
  {
   "cell_type": "code",
   "execution_count": 50,
   "metadata": {},
   "outputs": [
    {
     "name": "stdout",
     "output_type": "stream",
     "text": [
      "a  Pakistani  bro\n",
      "b  Pakistani  bro\n",
      "c  Pakistani  bro\n",
      "d  Pakistani  bro\n",
      "e  Pakistani  bro\n"
     ]
    },
    {
     "data": {
      "text/plain": [
       "['a Pakistani bro',\n",
       " 'b Pakistani bro',\n",
       " 'c Pakistani bro',\n",
       " 'd Pakistani bro',\n",
       " 'e Pakistani bro']"
      ]
     },
     "execution_count": 50,
     "metadata": {},
     "output_type": "execute_result"
    }
   ],
   "source": [
    "student=[\"a\",\"b\",\"c\",\"d\",\"e\"]\n",
    "pak=\" Pakistani\"\n",
    "bro=\" bro\"\n",
    "lust=[]\n",
    "for a_student in student:\n",
    "    print(a_student,pak,bro)\n",
    "    lust.append(a_student+pak+bro)\n",
    "lust"
   ]
  },
  {
   "cell_type": "code",
   "execution_count": 51,
   "metadata": {},
   "outputs": [
    {
     "data": {
      "text/plain": [
       "['a Pakistani bro',\n",
       " 'b Pakistani bro',\n",
       " 'c Pakistani bro',\n",
       " 'd Pakistani bro',\n",
       " 'e Pakistani bro']"
      ]
     },
     "execution_count": 51,
     "metadata": {},
     "output_type": "execute_result"
    }
   ],
   "source": [
    "lust"
   ]
  },
  {
   "cell_type": "code",
   "execution_count": 47,
   "metadata": {},
   "outputs": [
    {
     "data": {
      "text/plain": [
       "[2, 4, 6, 8, 10, 12, 14, 16, 18, 20]"
      ]
     },
     "execution_count": 47,
     "metadata": {},
     "output_type": "execute_result"
    }
   ],
   "source": [
    "squ=[]\n",
    "for p in range(1,11):\n",
    "    squ.append(p*2)\n",
    "\n",
    "    \n",
    "squ"
   ]
  },
  {
   "cell_type": "code",
   "execution_count": 53,
   "metadata": {},
   "outputs": [
    {
     "data": {
      "text/plain": [
       "['Ali Khan', 'Noman Khan', 'Kashif Khan', 'Zahid Khan', 'Saqib Khan']"
      ]
     },
     "execution_count": 53,
     "metadata": {},
     "output_type": "execute_result"
    }
   ],
   "source": [
    "students = [\"Ali\",\"Noman\",\"Kashif\",\"Zahid\",\"Saqib\"]\n",
    "for name in students:\n",
    "    a = students.index(name)\n",
    "    students[a] = name + \" Khan\"\n",
    "students"
   ]
  },
  {
   "cell_type": "code",
   "execution_count": 79,
   "metadata": {},
   "outputs": [
    {
     "name": "stdout",
     "output_type": "stream",
     "text": [
      "e\n",
      "e\n",
      "e\n",
      "e\n",
      "e\n"
     ]
    },
    {
     "data": {
      "text/plain": [
       "['e khan', 'e khan', 'e khan', 'e khan', 'e khan']"
      ]
     },
     "execution_count": 79,
     "metadata": {},
     "output_type": "execute_result"
    }
   ],
   "source": [
    "students = [\"Ali\",\"Noman\",\"Kashif\",\"Zahid\",\"Saqib\"]\n",
    "\n",
    "\n",
    "for a_students in students:\n",
    "    students.pop(0)\n",
    "    students.append(a_student+\" khan\")\n",
    "    print(a_student)\n",
    "students"
   ]
  },
  {
   "cell_type": "code",
   "execution_count": 85,
   "metadata": {},
   "outputs": [
    {
     "data": {
      "text/plain": [
       "['Ali Pakistani',\n",
       " 'Noman Pakistani',\n",
       " 'Kashif Pakistani',\n",
       " 'Zahid Pakistani',\n",
       " 'Saqib Pakistani']"
      ]
     },
     "execution_count": 85,
     "metadata": {},
     "output_type": "execute_result"
    }
   ],
   "source": [
    "check = [\"Ali\",\"Noman\",\"Kashif\",\"Zahid\",\"Saqib\"]\n",
    "check\n",
    "for a_check in check:\n",
    "    check.append(check.pop(0)+\" Pakistani\")\n",
    "check\n"
   ]
  },
  {
   "cell_type": "code",
   "execution_count": null,
   "metadata": {},
   "outputs": [],
   "source": []
  }
 ],
 "metadata": {
  "kernelspec": {
   "display_name": "Python 3",
   "language": "python",
   "name": "python3"
  },
  "language_info": {
   "codemirror_mode": {
    "name": "ipython",
    "version": 3
   },
   "file_extension": ".py",
   "mimetype": "text/x-python",
   "name": "python",
   "nbconvert_exporter": "python",
   "pygments_lexer": "ipython3",
   "version": "3.7.6"
  }
 },
 "nbformat": 4,
 "nbformat_minor": 4
}
