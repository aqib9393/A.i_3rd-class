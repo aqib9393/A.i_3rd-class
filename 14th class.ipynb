{
 "cells": [
  {
   "cell_type": "code",
   "execution_count": null,
   "metadata": {},
   "outputs": [],
   "source": [
    "cond=True\n",
    "c=[]\n",
    "while(cond):\n",
    "    name=input(\"Enter your name\")\n",
    "    if name==\"quit\":\n",
    "        cond=False\n",
    "    else:\n",
    "        cond=True\n",
    "        with open(\"guest.txt\",\"a\") as re:\n",
    "            re.write(name+\"\\n\")   "
   ]
  },
  {
   "cell_type": "code",
   "execution_count": null,
   "metadata": {},
   "outputs": [],
   "source": [
    "with open(\"quit\")"
   ]
  },
  {
   "cell_type": "code",
   "execution_count": null,
   "metadata": {},
   "outputs": [],
   "source": [
    "dp=[\"hello\",\"why\",\"who\"]\n",
    "dp\n",
    "dp.append(\"pkl\")"
   ]
  },
  {
   "cell_type": "code",
   "execution_count": null,
   "metadata": {},
   "outputs": [],
   "source": [
    "with open(\"guest.txt\",\"r\") as rd:\n",
    "    c=rd.read()\n",
    "c"
   ]
  },
  {
   "cell_type": "code",
   "execution_count": 12,
   "metadata": {},
   "outputs": [
    {
     "name": "stdout",
     "output_type": "stream",
     "text": [
      "Enter namewho\n",
      "Exits \n"
     ]
    }
   ],
   "source": [
    "_name=input(\"Enter name\")\n",
    "with open(\"guest.txt\",\"r+\") as rnd:\n",
    "    check=rnd.read()\n",
    "    if _name in check:\n",
    "        print(\"Exits \")       \n",
    "    else:\n",
    "        print(\"Not Exits \" )      "
   ]
  },
  {
   "cell_type": "code",
   "execution_count": 14,
   "metadata": {},
   "outputs": [
    {
     "name": "stdout",
     "output_type": "stream",
     "text": [
      "Enter namewho\n",
      "Exits \n",
      "Enter namewhy\n",
      "Exits \n",
      "Enter namewhen\n",
      "Exits \n",
      "Enter namekyun\n",
      "Not Exits \n",
      "Enter namequit\n"
     ]
    }
   ],
   "source": [
    "while True:\n",
    "    _name=input(\"Enter name\")\n",
    "    with open(\"guest.txt\",\"r+\") as rnd:\n",
    "        check=rnd.read()\n",
    "    if _name==\"quit\":\n",
    "        break\n",
    "    if _name in check:\n",
    "        print(\"Exits \")       \n",
    "    else:\n",
    "        print(\"Not Exits \" )"
   ]
  },
  {
   "cell_type": "code",
   "execution_count": 18,
   "metadata": {},
   "outputs": [
    {
     "name": "stdout",
     "output_type": "stream",
     "text": [
      "Enter namehello\n",
      "Why do you like programming?why\n",
      "Enter namekyun\n",
      "Why do you like programming?wese hei\n",
      "Enter namequit\n"
     ]
    }
   ],
   "source": [
    "while True:\n",
    "    name=input(\"Enter name\")\n",
    "    if name==\"quit\":\n",
    "        break\n",
    "    disp=input(\"Why do you like programming?\")\n",
    "    with open(\"poll.txt\",\"a\") as pd:\n",
    "        pd.write(name+\" : \" +disp+\"\\n\")\n",
    "    "
   ]
  },
  {
   "cell_type": "code",
   "execution_count": null,
   "metadata": {},
   "outputs": [],
   "source": []
  },
  {
   "cell_type": "code",
   "execution_count": null,
   "metadata": {},
   "outputs": [],
   "source": []
  }
 ],
 "metadata": {
  "kernelspec": {
   "display_name": "Python 3",
   "language": "python",
   "name": "python3"
  },
  "language_info": {
   "codemirror_mode": {
    "name": "ipython",
    "version": 3
   },
   "file_extension": ".py",
   "mimetype": "text/x-python",
   "name": "python",
   "nbconvert_exporter": "python",
   "pygments_lexer": "ipython3",
   "version": "3.7.6"
  }
 },
 "nbformat": 4,
 "nbformat_minor": 4
}
