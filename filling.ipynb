{
 "cells": [
  {
   "cell_type": "code",
   "execution_count": 30,
   "metadata": {},
   "outputs": [],
   "source": [
    "with open(\"abc.py\",'w') as obj:\n",
    "    obj.write(\"hello my friend\")"
   ]
  },
  {
   "cell_type": "code",
   "execution_count": 32,
   "metadata": {},
   "outputs": [],
   "source": [
    "with open(\"abc.py\",'w') as to:\n",
    "    to.write(\"hello why my friend\")"
   ]
  },
  {
   "cell_type": "code",
   "execution_count": 34,
   "metadata": {},
   "outputs": [],
   "source": [
    "with open(\"abc.py\",'w') as obj:\n",
    "    obj.write(\"hello my friend\")\n",
    "    obj.write(\"hello why my friend\")"
   ]
  },
  {
   "cell_type": "code",
   "execution_count": 40,
   "metadata": {},
   "outputs": [],
   "source": [
    "with open(\"he.txt\",'w') as pn:\n",
    "    pn.write(\"Hi i am another file which doesnot exits\")"
   ]
  },
  {
   "cell_type": "code",
   "execution_count": 44,
   "metadata": {},
   "outputs": [
    {
     "name": "stdout",
     "output_type": "stream",
     "text": [
      "Hi i am another file which doesnot exits\n",
      "other file which doesnot exits\n"
     ]
    }
   ],
   "source": [
    "with open('he.txt','r') as pk:\n",
    "    content=pk.read()\n",
    "    pk.seek(10)\n",
    "    content1=pk.read()\n",
    "print(content)\n",
    "print(content1)"
   ]
  },
  {
   "cell_type": "code",
   "execution_count": 55,
   "metadata": {},
   "outputs": [],
   "source": [
    "with open(\"he.txt\",'w') as pn:\n",
    "    pn.write(\"I am over \\n\")\n",
    "    pn.write(\"I am another file that does not exits1 \\n\")\n",
    "    pn.write(\"I am another file that does not exits2 \\n\")\n",
    "    pn.write(\"I am another file that does not exits3 \\n\")\n",
    "    pn.write(\"I am another file that does not exits4 \\n\")"
   ]
  },
  {
   "cell_type": "code",
   "execution_count": 58,
   "metadata": {},
   "outputs": [
    {
     "name": "stdout",
     "output_type": "stream",
     "text": [
      "I am over \n",
      "\n",
      "I am another file that does not exits1 \n",
      "\n",
      "I am another file that does not exits2 \n",
      "\n",
      "I am another file that does not exits3 \n",
      "\n",
      "I am another file that does not exits4 \n",
      "\n"
     ]
    }
   ],
   "source": [
    "with open(\"he.txt\",'r') as re:\n",
    "    for i in re:\n",
    "        print(i)\n",
    "    "
   ]
  },
  {
   "cell_type": "code",
   "execution_count": 59,
   "metadata": {},
   "outputs": [],
   "source": [
    "with open(\"he.txt\",'a') as pn:\n",
    "    pn.write(\"I am over \\n\")\n",
    "    pn.write(\"I am another file that does not exits5 \\n\")\n",
    "    pn.write(\"I am another file that does not exits6 \\n\")\n",
    "    pn.write(\"I am another file that does not exits7 \\n\")\n",
    "    pn.write(\"I am another file that does not exits8 \\n\")"
   ]
  },
  {
   "cell_type": "code",
   "execution_count": null,
   "metadata": {},
   "outputs": [],
   "source": [
    "with open(\"he.txt\",'w+') as pn:\n",
    "    pn"
   ]
  }
 ],
 "metadata": {
  "kernelspec": {
   "display_name": "Python 3",
   "language": "python",
   "name": "python3"
  },
  "language_info": {
   "codemirror_mode": {
    "name": "ipython",
    "version": 3
   },
   "file_extension": ".py",
   "mimetype": "text/x-python",
   "name": "python",
   "nbconvert_exporter": "python",
   "pygments_lexer": "ipython3",
   "version": "3.8.5"
  }
 },
 "nbformat": 4,
 "nbformat_minor": 4
}
