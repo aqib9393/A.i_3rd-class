{
 "cells": [
  {
   "cell_type": "code",
   "execution_count": 15,
   "metadata": {},
   "outputs": [],
   "source": [
    "class Dog():\n",
    "    def __init__(self, name, age, breed, color):\n",
    "        self.name =name \n",
    "        self.age=age\n",
    "        self.age=age\n",
    "        self.breed=breed\n",
    "        self.color=color\n",
    "        print(\"Dog create\")\n",
    "    def bark():\n",
    "        print(\"aslkdh\")\n",
    "    def walk():\n",
    "        pass\n",
    "    def rollover():\n",
    "        pass"
   ]
  },
  {
   "cell_type": "code",
   "execution_count": 6,
   "metadata": {},
   "outputs": [
    {
     "name": "stdout",
     "output_type": "stream",
     "text": [
      "Dog create\n"
     ]
    }
   ],
   "source": [
    "dog1=Dog('Tommy', 4, 'German','black')"
   ]
  },
  {
   "cell_type": "code",
   "execution_count": 8,
   "metadata": {},
   "outputs": [
    {
     "name": "stdout",
     "output_type": "stream",
     "text": [
      "Dog create\n"
     ]
    }
   ],
   "source": [
    "dog2=Dog('a',3,'b','c')"
   ]
  },
  {
   "cell_type": "code",
   "execution_count": 16,
   "metadata": {},
   "outputs": [
    {
     "name": "stdout",
     "output_type": "stream",
     "text": [
      "aslkdh\n"
     ]
    }
   ],
   "source": [
    "Dog.bark()"
   ]
  },
  {
   "cell_type": "code",
   "execution_count": 18,
   "metadata": {},
   "outputs": [],
   "source": [
    "class human():\n",
    "    def __init__(self,name,age,blood,height):\n",
    "        self.name=name\n",
    "        self.age=age\n",
    "        self.blood=blood\n",
    "        self.height=height\n",
    "        print(\"Human added\")\n",
    "    def Education(self):\n",
    "        print(f\"{self.name} is good\")\n",
    "        print(f\"{self.age} age is good\")\n",
    "        print(f\"{self.blood} excellent group\")\n",
    "        print(f\"{self.height} heigh is good\")\n",
    "        \n",
    "    "
   ]
  },
  {
   "cell_type": "code",
   "execution_count": 19,
   "metadata": {},
   "outputs": [
    {
     "name": "stdout",
     "output_type": "stream",
     "text": [
      "Human added\n"
     ]
    }
   ],
   "source": [
    "h1=human(\"aqib\",18,\"O+\",2.5)"
   ]
  },
  {
   "cell_type": "code",
   "execution_count": 20,
   "metadata": {},
   "outputs": [
    {
     "name": "stdout",
     "output_type": "stream",
     "text": [
      "Human added\n"
     ]
    }
   ],
   "source": [
    "h2=human(\"Dexton\",22,\"O-\",5.8)"
   ]
  },
  {
   "cell_type": "code",
   "execution_count": 21,
   "metadata": {},
   "outputs": [
    {
     "name": "stdout",
     "output_type": "stream",
     "text": [
      "aqib is good\n",
      "18 age is good\n",
      "O+ excellent group\n",
      "2.5 heigh is good\n"
     ]
    }
   ],
   "source": [
    "human.Education(h1)"
   ]
  },
  {
   "cell_type": "code",
   "execution_count": 22,
   "metadata": {},
   "outputs": [
    {
     "name": "stdout",
     "output_type": "stream",
     "text": [
      "Dexton is good\n",
      "22 age is good\n",
      "O- excellent group\n",
      "5.8 heigh is good\n"
     ]
    }
   ],
   "source": [
    "human.Education(h2)"
   ]
  },
  {
   "cell_type": "code",
   "execution_count": 25,
   "metadata": {},
   "outputs": [],
   "source": [
    " class Student():\n",
    "    def __init__(self,_id,name,age,education,area):\n",
    "        self._id=_id\n",
    "        self.name=name\n",
    "        self.age=age\n",
    "        self.education=education\n",
    "        self.area=area\n",
    "        print(\"student create\")\n",
    "    def Education(self):\n",
    "        print(f\"{self._id} is good\")\n",
    "        print(f\"{self.name} age is good\")\n",
    "        print(f\"{self.age} excellent group\")\n",
    "        print(f\"{self.education} heigh is good\")\n",
    "        print(f\"{self.area} heigh is good\")"
   ]
  },
  {
   "cell_type": "code",
   "execution_count": 30,
   "metadata": {},
   "outputs": [],
   "source": [
    " class Employee():\n",
    "    def __init__(self,_id,name,age,Daprtment,rank,salary):\n",
    "        self._id=_id\n",
    "        self.name=name\n",
    "        self.age=age\n",
    "        self.Department\n",
    "        self.rank=rank\n",
    "        self.salary=salary\n",
    "        print(\"Employee create\")\n",
    "    def Department(self):\n",
    "        print(f\"{self._id} is good\")\n",
    "        print(f\"{self.name} age is good\")\n",
    "        print(f\"{self.age} excellent group\")\n",
    "        print(f\"{self.Department} Department is good\")\n",
    "        print(f\"{self.rank} rank is normal\")\n",
    "        print(f\"{self.salary} wow good salary\")"
   ]
  },
  {
   "cell_type": "code",
   "execution_count": 28,
   "metadata": {},
   "outputs": [
    {
     "name": "stdout",
     "output_type": "stream",
     "text": [
      "student create\n"
     ]
    }
   ],
   "source": [
    "sdt1=Student(1,\"aqib\",18,\"matric\",\"Hadeed\")"
   ]
  },
  {
   "cell_type": "code",
   "execution_count": 31,
   "metadata": {},
   "outputs": [
    {
     "name": "stdout",
     "output_type": "stream",
     "text": [
      "Employee create\n"
     ]
    }
   ],
   "source": [
    "emp1=Employee(1,\"Dexton\",18,\"Audit\",\"GM\",475000)"
   ]
  },
  {
   "cell_type": "code",
   "execution_count": null,
   "metadata": {},
   "outputs": [],
   "source": []
  }
 ],
 "metadata": {
  "kernelspec": {
   "display_name": "Python 3",
   "language": "python",
   "name": "python3"
  },
  "language_info": {
   "codemirror_mode": {
    "name": "ipython",
    "version": 3
   },
   "file_extension": ".py",
   "mimetype": "text/x-python",
   "name": "python",
   "nbconvert_exporter": "python",
   "pygments_lexer": "ipython3",
   "version": "3.8.5"
  }
 },
 "nbformat": 4,
 "nbformat_minor": 4
}
