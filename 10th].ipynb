{
 "cells": [
  {
   "cell_type": "code",
   "execution_count": 2,
   "metadata": {},
   "outputs": [
    {
     "name": "stdout",
     "output_type": "stream",
     "text": [
      "Enter a number5\n",
      "Enter a number6\n",
      "0.8333333333333334\n",
      "nahi\n"
     ]
    }
   ],
   "source": [
    "try:\n",
    "    a=int(input(\"Enter a number\"))\n",
    "    b=int(input(\"Enter a number\"))\n",
    "    d=[]\n",
    "    c=a/b\n",
    "    print(c)\n",
    "except ZeroDivisionError:\n",
    "    print('Exception is caught Zerodivision')\n",
    "except IndexError:\n",
    "    print('handle')\n",
    "else:\n",
    "    print('nahi')\n",
    "    "
   ]
  },
  {
   "cell_type": "code",
   "execution_count": 6,
   "metadata": {},
   "outputs": [
    {
     "name": "stdout",
     "output_type": "stream",
     "text": [
      "Enter a number \n",
      "h\n",
      "Hello \n"
     ]
    }
   ],
   "source": [
    "try:\n",
    "    a=int(input(\"Enter a number \\n\"))\n",
    "    b=int(input(\"Enter a number \\n\"))\n",
    "    d=[]\n",
    "    c=a/b\n",
    "    print(c)\n",
    "except:\n",
    "    print(\"Hello \")\n",
    "    "
   ]
  },
  {
   "cell_type": "code",
   "execution_count": 21,
   "metadata": {},
   "outputs": [],
   "source": [
    "def Student(name):\n",
    "    print('hello my friend: ',name)\n",
    "    print('I am not from pakistan i am from russia.')\n",
    "    "
   ]
  },
  {
   "cell_type": "code",
   "execution_count": 22,
   "metadata": {},
   "outputs": [
    {
     "name": "stdout",
     "output_type": "stream",
     "text": [
      "hello my friend:  Dexton\n",
      "I am not from pakistan i am from russia.\n"
     ]
    }
   ],
   "source": [
    "Student(\"Dexton\")"
   ]
  },
  {
   "cell_type": "code",
   "execution_count": null,
   "metadata": {},
   "outputs": [],
   "source": []
  }
 ],
 "metadata": {
  "kernelspec": {
   "display_name": "Python 3",
   "language": "python",
   "name": "python3"
  },
  "language_info": {
   "codemirror_mode": {
    "name": "ipython",
    "version": 3
   },
   "file_extension": ".py",
   "mimetype": "text/x-python",
   "name": "python",
   "nbconvert_exporter": "python",
   "pygments_lexer": "ipython3",
   "version": "3.7.6"
  }
 },
 "nbformat": 4,
 "nbformat_minor": 4
}
