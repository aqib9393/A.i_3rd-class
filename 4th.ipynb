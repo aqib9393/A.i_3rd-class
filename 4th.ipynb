{
 "cells": [
  {
   "cell_type": "code",
   "execution_count": 27,
   "metadata": {},
   "outputs": [
    {
     "data": {
      "text/plain": [
       "{'biryani': 1, 'tikka': 2, 'coffee': 2, 'Fish': 4}"
      ]
     },
     "execution_count": 27,
     "metadata": {},
     "output_type": "execute_result"
    }
   ],
   "source": [
    "price_in_rs={'biryani':150,\n",
    "                'tikka':300,\n",
    "                'coffee':200,\n",
    "                'Fish':500}\n",
    "import math\n",
    "price_in_doller={item: math.ceil(price/160) for item, price in price_in_rs.items()}\n",
    "\n",
    "price_in_doller"
   ]
  },
  {
   "cell_type": "code",
   "execution_count": 36,
   "metadata": {},
   "outputs": [
    {
     "data": {
      "text/plain": [
       "{'biryani': 1, 'tikka': 2, 'coffee': 2, 'Fish': 4}"
      ]
     },
     "execution_count": 36,
     "metadata": {},
     "output_type": "execute_result"
    }
   ],
   "source": [
    "updated_prices={item:price+1 if price < 1 else price  for item, price in price_in_doller.items() }\n",
    "\n",
    "updated_prices"
   ]
  },
  {
   "cell_type": "code",
   "execution_count": 68,
   "metadata": {},
   "outputs": [
    {
     "name": "stdout",
     "output_type": "stream",
     "text": [
      "['a', 'b', 'c'] The nail runs through the river pakistan\n",
      "['d', 'e', 'f'] The nail runs through the river India\n",
      "['g', 'h', 'i'] The nail runs through the river China\n"
     ]
    }
   ],
   "source": [
    "dict_={\n",
    "    'pakistan':['a','b','c'],\n",
    "    'India':['d','e','f'],\n",
    "    'China':['g','h','i']\n",
    "}\n",
    "for country, river in dict_.items():\n",
    "    print(river,\"The nail runs through the river\", country)"
   ]
  },
  {
   "cell_type": "code",
   "execution_count": 61,
   "metadata": {},
   "outputs": [
    {
     "data": {
      "text/plain": [
       "4"
      ]
     },
     "execution_count": 61,
     "metadata": {},
     "output_type": "execute_result"
    }
   ],
   "source": [
    "listoflist=[ [11,12,13,14,[4,5]],\n",
    "            [45,12],\n",
    "            [43,89],\n",
    "            ['a','b']]\n",
    "\n",
    "listoflist[0][4][0]"
   ]
  },
  {
   "cell_type": "code",
   "execution_count": 70,
   "metadata": {},
   "outputs": [],
   "source": [
    "listofDic=[updated_prices,price_in_rs,price_in_doller]"
   ]
  },
  {
   "cell_type": "code",
   "execution_count": 72,
   "metadata": {},
   "outputs": [
    {
     "data": {
      "text/plain": [
       "2"
      ]
     },
     "execution_count": 72,
     "metadata": {},
     "output_type": "execute_result"
    }
   ],
   "source": [
    "listofDic[0]['tikka']"
   ]
  },
  {
   "cell_type": "code",
   "execution_count": 4,
   "metadata": {},
   "outputs": [],
   "source": [
    "DictonaryofDict={'saylani': {'SMIT':['Web','ds','a.i','ccna'],\n",
    "                            'health':['opd','xray','yray']\n",
    "                            },\n",
    "                 'uni':{'cs':['1st','2nd','3rd'],\n",
    "                        'admin':['fees','timetable','exams']\n",
    "                       }\n",
    "                 \n",
    "                }"
   ]
  },
  {
   "cell_type": "code",
   "execution_count": 5,
   "metadata": {},
   "outputs": [
    {
     "data": {
      "text/plain": [
       "{'saylani': {'SMIT': ['Web', 'ds', 'a.i', 'ccna'],\n",
       "  'health': ['opd', 'xray', 'yray']},\n",
       " 'uni': {'cs': ['1st', '2nd', '3rd'], 'admin': ['fees', 'timetable', 'exams']}}"
      ]
     },
     "execution_count": 5,
     "metadata": {},
     "output_type": "execute_result"
    }
   ],
   "source": [
    "DictonaryofDict"
   ]
  },
  {
   "cell_type": "code",
   "execution_count": 6,
   "metadata": {},
   "outputs": [
    {
     "name": "stdout",
     "output_type": "stream",
     "text": [
      "Enter department nameSMIT\n",
      "Enter idara namesaylani\n"
     ]
    },
    {
     "data": {
      "text/plain": [
       "True"
      ]
     },
     "execution_count": 6,
     "metadata": {},
     "output_type": "execute_result"
    }
   ],
   "source": [
    "x=input(\"Enter department name\")\n",
    "y=input(\"Enter idara name\")\n",
    "x in DictonaryofDict[y]"
   ]
  },
  {
   "cell_type": "code",
   "execution_count": 22,
   "metadata": {},
   "outputs": [
    {
     "name": "stdout",
     "output_type": "stream",
     "text": [
      "False\n"
     ]
    }
   ],
   "source": [
    "for pk,pv in DictonaryofDict.items():\n",
    "    if pk=='uni':\n",
    "        for uk,uv in DictonaryofDict[pk].items():\n",
    "            if uk=='admin':\n",
    "                print('cs' in uv)"
   ]
  },
  {
   "cell_type": "code",
   "execution_count": null,
   "metadata": {},
   "outputs": [],
   "source": []
  }
 ],
 "metadata": {
  "kernelspec": {
   "display_name": "Python 3",
   "language": "python",
   "name": "python3"
  }
 },
 "nbformat": 4,
 "nbformat_minor": 4
}
